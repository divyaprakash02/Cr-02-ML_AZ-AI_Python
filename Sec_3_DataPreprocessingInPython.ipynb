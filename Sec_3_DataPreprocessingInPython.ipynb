{
 "cells": [
  {
   "cell_type": "code",
   "execution_count": 1,
   "id": "cf271a8c-38db-44cb-906d-771104f94cab",
   "metadata": {},
   "outputs": [
    {
     "name": "stdout",
     "output_type": "stream",
     "text": [
      "Hello World\n"
     ]
    }
   ],
   "source": [
    "print(\"Hello World\")"
   ]
  },
  {
   "cell_type": "code",
   "execution_count": 2,
   "id": "19846f0f-13e2-46a0-8bb5-172d08474db4",
   "metadata": {},
   "outputs": [],
   "source": [
    "import tensorflow"
   ]
  },
  {
   "cell_type": "code",
   "execution_count": 3,
   "id": "6f27e945-3133-482c-934e-fbc09a26297f",
   "metadata": {},
   "outputs": [
    {
     "ename": "ModuleNotFoundError",
     "evalue": "No module named 'xgboost'",
     "output_type": "error",
     "traceback": [
      "\u001b[1;31m---------------------------------------------------------------------------\u001b[0m",
      "\u001b[1;31mModuleNotFoundError\u001b[0m                       Traceback (most recent call last)",
      "Cell \u001b[1;32mIn[3], line 1\u001b[0m\n\u001b[1;32m----> 1\u001b[0m \u001b[38;5;28;01mimport\u001b[39;00m \u001b[38;5;21;01mxgboost\u001b[39;00m\n",
      "\u001b[1;31mModuleNotFoundError\u001b[0m: No module named 'xgboost'"
     ]
    }
   ],
   "source": [
    "import xgboost"
   ]
  },
  {
   "cell_type": "code",
   "execution_count": 4,
   "id": "1386ed40-edf1-4f54-8bef-47c2fbc78963",
   "metadata": {},
   "outputs": [
    {
     "name": "stdout",
     "output_type": "stream",
     "text": [
      "Collecting xgboost\n",
      "  Downloading xgboost-3.0.0-py3-none-win_amd64.whl.metadata (2.1 kB)\n",
      "Requirement already satisfied: numpy in c:\\users\\divya\\anaconda3\\envs\\conda_new_env\\lib\\site-packages (from xgboost) (1.26.4)\n",
      "Requirement already satisfied: scipy in c:\\users\\divya\\anaconda3\\envs\\conda_new_env\\lib\\site-packages (from xgboost) (1.15.1)\n",
      "Downloading xgboost-3.0.0-py3-none-win_amd64.whl (150.0 MB)\n",
      "   ---------------------------------------- 0.0/150.0 MB ? eta -:--:--\n",
      "   -- ------------------------------------- 8.1/150.0 MB 41.8 MB/s eta 0:00:04\n",
      "   -- ------------------------------------- 10.7/150.0 MB 26.8 MB/s eta 0:00:06\n",
      "   --- ------------------------------------ 11.5/150.0 MB 20.6 MB/s eta 0:00:07\n",
      "   --- ------------------------------------ 11.8/150.0 MB 16.0 MB/s eta 0:00:09\n",
      "   --- ------------------------------------ 12.6/150.0 MB 12.0 MB/s eta 0:00:12\n",
      "   --- ------------------------------------ 13.4/150.0 MB 10.6 MB/s eta 0:00:13\n",
      "   --- ------------------------------------ 14.7/150.0 MB 9.8 MB/s eta 0:00:14\n",
      "   ---- ----------------------------------- 16.3/150.0 MB 9.6 MB/s eta 0:00:14\n",
      "   ---- ----------------------------------- 18.4/150.0 MB 9.6 MB/s eta 0:00:14\n",
      "   ----- ---------------------------------- 21.0/150.0 MB 9.9 MB/s eta 0:00:14\n",
      "   ------ --------------------------------- 23.6/150.0 MB 10.1 MB/s eta 0:00:13\n",
      "   ------ --------------------------------- 26.0/150.0 MB 10.3 MB/s eta 0:00:13\n",
      "   ------- -------------------------------- 29.4/150.0 MB 10.6 MB/s eta 0:00:12\n",
      "   -------- ------------------------------- 30.1/150.0 MB 10.1 MB/s eta 0:00:12\n",
      "   --------- ------------------------------ 34.3/150.0 MB 10.8 MB/s eta 0:00:11\n",
      "   --------- ------------------------------ 37.2/150.0 MB 11.0 MB/s eta 0:00:11\n",
      "   ---------- ----------------------------- 38.3/150.0 MB 10.9 MB/s eta 0:00:11\n",
      "   ---------- ----------------------------- 38.5/150.0 MB 10.2 MB/s eta 0:00:11\n",
      "   ---------- ----------------------------- 39.1/150.0 MB 9.9 MB/s eta 0:00:12\n",
      "   ---------- ----------------------------- 40.1/150.0 MB 9.4 MB/s eta 0:00:12\n",
      "   ---------- ----------------------------- 40.6/150.0 MB 9.2 MB/s eta 0:00:12\n",
      "   ---------- ----------------------------- 41.2/150.0 MB 9.0 MB/s eta 0:00:13\n",
      "   ----------- ---------------------------- 41.7/150.0 MB 8.6 MB/s eta 0:00:13\n",
      "   ----------- ---------------------------- 42.7/150.0 MB 8.4 MB/s eta 0:00:13\n",
      "   ----------- ---------------------------- 44.0/150.0 MB 8.3 MB/s eta 0:00:13\n",
      "   ------------ --------------------------- 46.1/150.0 MB 8.4 MB/s eta 0:00:13\n",
      "   ------------- -------------------------- 49.0/150.0 MB 8.5 MB/s eta 0:00:12\n",
      "   ------------- -------------------------- 52.4/150.0 MB 8.8 MB/s eta 0:00:12\n",
      "   -------------- ------------------------- 55.8/150.0 MB 9.0 MB/s eta 0:00:11\n",
      "   --------------- ------------------------ 57.9/150.0 MB 9.1 MB/s eta 0:00:11\n",
      "   --------------- ------------------------ 59.8/150.0 MB 9.1 MB/s eta 0:00:10\n",
      "   ---------------- ----------------------- 61.3/150.0 MB 9.1 MB/s eta 0:00:10\n",
      "   ---------------- ----------------------- 62.4/150.0 MB 8.9 MB/s eta 0:00:10\n",
      "   ----------------- ---------------------- 66.3/150.0 MB 9.2 MB/s eta 0:00:10\n",
      "   ------------------- -------------------- 71.8/150.0 MB 9.6 MB/s eta 0:00:09\n",
      "   ------------------- -------------------- 74.2/150.0 MB 9.7 MB/s eta 0:00:08\n",
      "   -------------------- ------------------- 76.0/150.0 MB 9.7 MB/s eta 0:00:08\n",
      "   -------------------- ------------------- 77.9/150.0 MB 9.6 MB/s eta 0:00:08\n",
      "   --------------------- ------------------ 81.5/150.0 MB 9.8 MB/s eta 0:00:07\n",
      "   ---------------------- ----------------- 84.7/150.0 MB 10.0 MB/s eta 0:00:07\n",
      "   ----------------------- ---------------- 86.5/150.0 MB 9.9 MB/s eta 0:00:07\n",
      "   ----------------------- ---------------- 87.8/150.0 MB 9.8 MB/s eta 0:00:07\n",
      "   ----------------------- ---------------- 88.6/150.0 MB 9.7 MB/s eta 0:00:07\n",
      "   ----------------------- ---------------- 89.4/150.0 MB 9.6 MB/s eta 0:00:07\n",
      "   ------------------------ --------------- 90.7/150.0 MB 9.5 MB/s eta 0:00:07\n",
      "   ------------------------ --------------- 92.8/150.0 MB 9.5 MB/s eta 0:00:07\n",
      "   ------------------------- -------------- 94.4/150.0 MB 9.5 MB/s eta 0:00:06\n",
      "   ------------------------- -------------- 96.7/150.0 MB 9.5 MB/s eta 0:00:06\n",
      "   -------------------------- ------------- 99.6/150.0 MB 9.6 MB/s eta 0:00:06\n",
      "   --------------------------- ------------ 103.3/150.0 MB 9.7 MB/s eta 0:00:05\n",
      "   ---------------------------- ----------- 107.0/150.0 MB 9.9 MB/s eta 0:00:05\n",
      "   ---------------------------- ---------- 111.4/150.0 MB 10.1 MB/s eta 0:00:04\n",
      "   ----------------------------- --------- 113.8/150.0 MB 10.2 MB/s eta 0:00:04\n",
      "   ----------------------------- --------- 115.1/150.0 MB 10.1 MB/s eta 0:00:04\n",
      "   ------------------------------ -------- 116.4/150.0 MB 10.0 MB/s eta 0:00:04\n",
      "   ------------------------------ -------- 118.5/150.0 MB 10.0 MB/s eta 0:00:04\n",
      "   ------------------------------- ------- 120.6/150.0 MB 10.0 MB/s eta 0:00:03\n",
      "   -------------------------------- ------ 123.7/150.0 MB 10.1 MB/s eta 0:00:03\n",
      "   -------------------------------- ------ 126.4/150.0 MB 10.1 MB/s eta 0:00:03\n",
      "   --------------------------------- ----- 130.3/150.0 MB 10.3 MB/s eta 0:00:02\n",
      "   ---------------------------------- ---- 134.5/150.0 MB 10.4 MB/s eta 0:00:02\n",
      "   ----------------------------------- --- 136.3/150.0 MB 10.4 MB/s eta 0:00:02\n",
      "   ----------------------------------- --- 137.1/150.0 MB 10.3 MB/s eta 0:00:02\n",
      "   ----------------------------------- --- 138.1/150.0 MB 10.2 MB/s eta 0:00:02\n",
      "   ------------------------------------ -- 139.7/150.0 MB 10.2 MB/s eta 0:00:02\n",
      "   ------------------------------------ -- 141.8/150.0 MB 10.2 MB/s eta 0:00:01\n",
      "   ------------------------------------- - 144.4/150.0 MB 10.2 MB/s eta 0:00:01\n",
      "   --------------------------------------  147.3/150.0 MB 10.3 MB/s eta 0:00:01\n",
      "   --------------------------------------  149.9/150.0 MB 10.3 MB/s eta 0:00:01\n",
      "   --------------------------------------- 150.0/150.0 MB 10.2 MB/s eta 0:00:00\n",
      "Installing collected packages: xgboost\n",
      "Successfully installed xgboost-3.0.0\n",
      "Note: you may need to restart the kernel to use updated packages.\n"
     ]
    }
   ],
   "source": [
    "pip install xgboost"
   ]
  },
  {
   "cell_type": "code",
   "execution_count": 5,
   "id": "777d0348-c2d9-410c-8101-1c9c1c2d7485",
   "metadata": {},
   "outputs": [],
   "source": [
    "import xgboost"
   ]
  },
  {
   "cell_type": "code",
   "execution_count": 1,
   "id": "160a3763-04c9-4b67-b243-3ade5f7e5ad3",
   "metadata": {},
   "outputs": [],
   "source": [
    "import pandas as pd\n",
    "import numpy as np\n",
    "import matplotlib.pyplot as plt"
   ]
  },
  {
   "cell_type": "markdown",
   "id": "8c4264ad-303d-4fce-b7ae-fc219b4554c5",
   "metadata": {},
   "source": [
    "Importing the dataset"
   ]
  },
  {
   "cell_type": "code",
   "execution_count": 2,
   "id": "36b9ac57-8534-4cab-bf01-d30c69edfebc",
   "metadata": {},
   "outputs": [],
   "source": [
    "dataset = pd.read_csv(\"C:/Users/divya/AIML/Cr-02-ML_AZ/MLAZ_Course/datasets/Data.csv\")"
   ]
  },
  {
   "cell_type": "code",
   "execution_count": 3,
   "id": "dbe5c95f-d393-45ac-bd24-689e97704b59",
   "metadata": {},
   "outputs": [
    {
     "data": {
      "text/html": [
       "<div>\n",
       "<style scoped>\n",
       "    .dataframe tbody tr th:only-of-type {\n",
       "        vertical-align: middle;\n",
       "    }\n",
       "\n",
       "    .dataframe tbody tr th {\n",
       "        vertical-align: top;\n",
       "    }\n",
       "\n",
       "    .dataframe thead th {\n",
       "        text-align: right;\n",
       "    }\n",
       "</style>\n",
       "<table border=\"1\" class=\"dataframe\">\n",
       "  <thead>\n",
       "    <tr style=\"text-align: right;\">\n",
       "      <th></th>\n",
       "      <th>Country</th>\n",
       "      <th>Age</th>\n",
       "      <th>Salary</th>\n",
       "      <th>Purchased</th>\n",
       "    </tr>\n",
       "  </thead>\n",
       "  <tbody>\n",
       "    <tr>\n",
       "      <th>0</th>\n",
       "      <td>France</td>\n",
       "      <td>44.0</td>\n",
       "      <td>72000.0</td>\n",
       "      <td>No</td>\n",
       "    </tr>\n",
       "    <tr>\n",
       "      <th>1</th>\n",
       "      <td>Spain</td>\n",
       "      <td>27.0</td>\n",
       "      <td>48000.0</td>\n",
       "      <td>Yes</td>\n",
       "    </tr>\n",
       "    <tr>\n",
       "      <th>2</th>\n",
       "      <td>Germany</td>\n",
       "      <td>30.0</td>\n",
       "      <td>54000.0</td>\n",
       "      <td>No</td>\n",
       "    </tr>\n",
       "    <tr>\n",
       "      <th>3</th>\n",
       "      <td>Spain</td>\n",
       "      <td>38.0</td>\n",
       "      <td>61000.0</td>\n",
       "      <td>No</td>\n",
       "    </tr>\n",
       "    <tr>\n",
       "      <th>4</th>\n",
       "      <td>Germany</td>\n",
       "      <td>40.0</td>\n",
       "      <td>NaN</td>\n",
       "      <td>Yes</td>\n",
       "    </tr>\n",
       "  </tbody>\n",
       "</table>\n",
       "</div>"
      ],
      "text/plain": [
       "   Country   Age   Salary Purchased\n",
       "0   France  44.0  72000.0        No\n",
       "1    Spain  27.0  48000.0       Yes\n",
       "2  Germany  30.0  54000.0        No\n",
       "3    Spain  38.0  61000.0        No\n",
       "4  Germany  40.0      NaN       Yes"
      ]
     },
     "execution_count": 3,
     "metadata": {},
     "output_type": "execute_result"
    }
   ],
   "source": [
    "dataset.head()"
   ]
  },
  {
   "cell_type": "code",
   "execution_count": 4,
   "id": "5de1c727-8557-4369-800d-3682ad789c49",
   "metadata": {},
   "outputs": [
    {
     "data": {
      "text/html": [
       "<div>\n",
       "<style scoped>\n",
       "    .dataframe tbody tr th:only-of-type {\n",
       "        vertical-align: middle;\n",
       "    }\n",
       "\n",
       "    .dataframe tbody tr th {\n",
       "        vertical-align: top;\n",
       "    }\n",
       "\n",
       "    .dataframe thead th {\n",
       "        text-align: right;\n",
       "    }\n",
       "</style>\n",
       "<table border=\"1\" class=\"dataframe\">\n",
       "  <thead>\n",
       "    <tr style=\"text-align: right;\">\n",
       "      <th></th>\n",
       "      <th>Country</th>\n",
       "      <th>Age</th>\n",
       "      <th>Salary</th>\n",
       "      <th>Purchased</th>\n",
       "    </tr>\n",
       "  </thead>\n",
       "  <tbody>\n",
       "    <tr>\n",
       "      <th>0</th>\n",
       "      <td>France</td>\n",
       "      <td>44.0</td>\n",
       "      <td>72000.0</td>\n",
       "      <td>No</td>\n",
       "    </tr>\n",
       "    <tr>\n",
       "      <th>1</th>\n",
       "      <td>Spain</td>\n",
       "      <td>27.0</td>\n",
       "      <td>48000.0</td>\n",
       "      <td>Yes</td>\n",
       "    </tr>\n",
       "    <tr>\n",
       "      <th>2</th>\n",
       "      <td>Germany</td>\n",
       "      <td>30.0</td>\n",
       "      <td>54000.0</td>\n",
       "      <td>No</td>\n",
       "    </tr>\n",
       "    <tr>\n",
       "      <th>3</th>\n",
       "      <td>Spain</td>\n",
       "      <td>38.0</td>\n",
       "      <td>61000.0</td>\n",
       "      <td>No</td>\n",
       "    </tr>\n",
       "    <tr>\n",
       "      <th>4</th>\n",
       "      <td>Germany</td>\n",
       "      <td>40.0</td>\n",
       "      <td>NaN</td>\n",
       "      <td>Yes</td>\n",
       "    </tr>\n",
       "    <tr>\n",
       "      <th>5</th>\n",
       "      <td>France</td>\n",
       "      <td>35.0</td>\n",
       "      <td>58000.0</td>\n",
       "      <td>Yes</td>\n",
       "    </tr>\n",
       "    <tr>\n",
       "      <th>6</th>\n",
       "      <td>Spain</td>\n",
       "      <td>NaN</td>\n",
       "      <td>52000.0</td>\n",
       "      <td>No</td>\n",
       "    </tr>\n",
       "    <tr>\n",
       "      <th>7</th>\n",
       "      <td>France</td>\n",
       "      <td>48.0</td>\n",
       "      <td>79000.0</td>\n",
       "      <td>Yes</td>\n",
       "    </tr>\n",
       "    <tr>\n",
       "      <th>8</th>\n",
       "      <td>Germany</td>\n",
       "      <td>50.0</td>\n",
       "      <td>83000.0</td>\n",
       "      <td>No</td>\n",
       "    </tr>\n",
       "    <tr>\n",
       "      <th>9</th>\n",
       "      <td>France</td>\n",
       "      <td>37.0</td>\n",
       "      <td>67000.0</td>\n",
       "      <td>Yes</td>\n",
       "    </tr>\n",
       "  </tbody>\n",
       "</table>\n",
       "</div>"
      ],
      "text/plain": [
       "   Country   Age   Salary Purchased\n",
       "0   France  44.0  72000.0        No\n",
       "1    Spain  27.0  48000.0       Yes\n",
       "2  Germany  30.0  54000.0        No\n",
       "3    Spain  38.0  61000.0        No\n",
       "4  Germany  40.0      NaN       Yes\n",
       "5   France  35.0  58000.0       Yes\n",
       "6    Spain   NaN  52000.0        No\n",
       "7   France  48.0  79000.0       Yes\n",
       "8  Germany  50.0  83000.0        No\n",
       "9   France  37.0  67000.0       Yes"
      ]
     },
     "execution_count": 4,
     "metadata": {},
     "output_type": "execute_result"
    }
   ],
   "source": [
    "dataset"
   ]
  },
  {
   "cell_type": "markdown",
   "id": "0057651e-302e-4666-98c2-03213283a873",
   "metadata": {},
   "source": [
    "Data Preprocessing"
   ]
  },
  {
   "cell_type": "code",
   "execution_count": 5,
   "id": "37568ad5-8899-4366-b0cf-ac45a9f1fb1a",
   "metadata": {},
   "outputs": [],
   "source": [
    "X = dataset.iloc[:,:-1].values\n",
    "y = dataset.iloc[:,-1].values"
   ]
  },
  {
   "cell_type": "code",
   "execution_count": 6,
   "id": "07ed2ece-34cd-404e-9079-798c82f45817",
   "metadata": {},
   "outputs": [
    {
     "name": "stdout",
     "output_type": "stream",
     "text": [
      "[['France' 44.0 72000.0]\n",
      " ['Spain' 27.0 48000.0]\n",
      " ['Germany' 30.0 54000.0]\n",
      " ['Spain' 38.0 61000.0]\n",
      " ['Germany' 40.0 nan]\n",
      " ['France' 35.0 58000.0]\n",
      " ['Spain' nan 52000.0]\n",
      " ['France' 48.0 79000.0]\n",
      " ['Germany' 50.0 83000.0]\n",
      " ['France' 37.0 67000.0]]\n",
      "\n",
      "['No' 'Yes' 'No' 'No' 'Yes' 'Yes' 'No' 'Yes' 'No' 'Yes']\n"
     ]
    }
   ],
   "source": [
    "print(X)\n",
    "print(\"\")\n",
    "print(y)"
   ]
  },
  {
   "cell_type": "markdown",
   "id": "05139e73-f249-4f12-ab08-b2b1bac21a87",
   "metadata": {},
   "source": [
    "Handling missing data"
   ]
  },
  {
   "cell_type": "code",
   "execution_count": 13,
   "id": "da41fc59-b73f-411f-941e-28e42a39012b",
   "metadata": {},
   "outputs": [],
   "source": [
    "from sklearn.impute import SimpleImputer\n",
    "simpleImputer = SimpleImputer(missing_values=np.nan, strategy='mean')\n",
    "simpleImputer.fit(X[:,1:3])\n",
    "X[:,1:3] = simpleImputer.transform(X[:,1:3])"
   ]
  },
  {
   "cell_type": "code",
   "execution_count": 10,
   "id": "08e2884e-86f0-46f2-b3f4-69bd9fd80885",
   "metadata": {},
   "outputs": [
    {
     "name": "stdout",
     "output_type": "stream",
     "text": [
      "[['France' 44.0 72000.0]\n",
      " ['Spain' 27.0 48000.0]\n",
      " ['Germany' 30.0 54000.0]\n",
      " ['Spain' 38.0 61000.0]\n",
      " ['Germany' 40.0 63777.77777777778]\n",
      " ['France' 35.0 58000.0]\n",
      " ['Spain' 38.77777777777778 52000.0]\n",
      " ['France' 48.0 79000.0]\n",
      " ['Germany' 50.0 83000.0]\n",
      " ['France' 37.0 67000.0]]\n"
     ]
    }
   ],
   "source": [
    "print(X)"
   ]
  },
  {
   "cell_type": "markdown",
   "id": "66bcbf4a-cbd9-459f-95ff-54ba0148cad3",
   "metadata": {},
   "source": [
    "Encoding Categorical Data"
   ]
  },
  {
   "cell_type": "markdown",
   "id": "bc749b0d-e7e7-4061-bf4c-98d8d8cf1609",
   "metadata": {},
   "source": [
    "Encoding independent vartiable"
   ]
  },
  {
   "cell_type": "code",
   "execution_count": 12,
   "id": "e469c026-8db5-40b0-960b-90ee54a6492d",
   "metadata": {},
   "outputs": [],
   "source": [
    "from sklearn.compose import ColumnTransformer\n",
    "from sklearn.preprocessing import OneHotEncoder"
   ]
  },
  {
   "cell_type": "code",
   "execution_count": 14,
   "id": "2e21d2bd-8542-4418-9b92-d26820775e84",
   "metadata": {},
   "outputs": [],
   "source": [
    "ct = ColumnTransformer(transformers=[('encoder', OneHotEncoder(),[0])], remainder='passthrough')\n",
    "X = np.array(ct.fit_transform(X))"
   ]
  },
  {
   "cell_type": "code",
   "execution_count": 15,
   "id": "63271517-8fee-433d-a522-52b0bcc5e866",
   "metadata": {},
   "outputs": [
    {
     "name": "stdout",
     "output_type": "stream",
     "text": [
      "[[1.0 0.0 0.0 44.0 72000.0]\n",
      " [0.0 0.0 1.0 27.0 48000.0]\n",
      " [0.0 1.0 0.0 30.0 54000.0]\n",
      " [0.0 0.0 1.0 38.0 61000.0]\n",
      " [0.0 1.0 0.0 40.0 63777.77777777778]\n",
      " [1.0 0.0 0.0 35.0 58000.0]\n",
      " [0.0 0.0 1.0 38.77777777777778 52000.0]\n",
      " [1.0 0.0 0.0 48.0 79000.0]\n",
      " [0.0 1.0 0.0 50.0 83000.0]\n",
      " [1.0 0.0 0.0 37.0 67000.0]]\n"
     ]
    }
   ],
   "source": [
    "print(X)"
   ]
  },
  {
   "cell_type": "code",
   "execution_count": 16,
   "id": "f52aa07e-2919-4c28-8fe0-3591248f69e6",
   "metadata": {},
   "outputs": [
    {
     "name": "stdout",
     "output_type": "stream",
     "text": [
      "['No' 'Yes' 'No' 'No' 'Yes' 'Yes' 'No' 'Yes' 'No' 'Yes']\n"
     ]
    }
   ],
   "source": [
    "print(y)"
   ]
  },
  {
   "cell_type": "code",
   "execution_count": 17,
   "id": "1b0fb3bf-649a-4b75-9f5c-669471d25652",
   "metadata": {},
   "outputs": [],
   "source": [
    "from sklearn.preprocessing import LabelEncoder\n",
    "le = LabelEncoder()\n",
    "y = le.fit_transform(y)"
   ]
  },
  {
   "cell_type": "code",
   "execution_count": 18,
   "id": "9f151ff2-dbb4-4b4b-89d1-53f254a83790",
   "metadata": {},
   "outputs": [
    {
     "name": "stdout",
     "output_type": "stream",
     "text": [
      "[0 1 0 0 1 1 0 1 0 1]\n"
     ]
    }
   ],
   "source": [
    "print(y)"
   ]
  },
  {
   "cell_type": "code",
   "execution_count": 19,
   "id": "0f65adf2-6952-4f13-a94d-13f99ccd7ed6",
   "metadata": {},
   "outputs": [
    {
     "name": "stdout",
     "output_type": "stream",
     "text": [
      "[0 1 0 0 1 1 0 1 0 1]\n"
     ]
    }
   ],
   "source": [
    "print(np.array(y))"
   ]
  },
  {
   "cell_type": "markdown",
   "id": "720d252d-45f3-4ba3-8c55-59b0a178673d",
   "metadata": {},
   "source": [
    "Exercise 3"
   ]
  },
  {
   "cell_type": "markdown",
   "id": "33bd4b8a-ae90-4ea1-8be3-89f504e7aa7a",
   "metadata": {},
   "source": [
    "# Importing the necessary libraries\n",
    "import pandas as pd\n",
    "import numpy as np\n",
    "\n",
    "from sklearn.compose import ColumnTransformer\n",
    "from sklearn.preprocessing import OneHotEncoder, LabelEncoder\n",
    "# Load the dataset\n",
    "dataset = pd.read_csv('titanic.csv')\n",
    "\n",
    "# Identify the categorical data\n",
    "categorical_features = ['Sex', 'Embarked', 'Pclass']\n",
    "\n",
    "# Implement an instance of the ColumnTransformer class\n",
    "ct = ColumnTransformer(transformers=[('encoder', OneHotEncoder(),categorical_features)], remainder='passthrough')\n",
    "\n",
    "# Apply the fit_transform method on the instance of ColumnTransformer\n",
    "X = ct.fit_transform(dataset)\n",
    "\n",
    "# Convert the output into a NumPy array\n",
    "X = np.array(X)\n",
    "\n",
    "# Use LabelEncoder to encode binary categorical data\n",
    "le = LabelEncoder()\n",
    "y = le.fit_transform(dataset['Survived'])\n",
    "\n",
    "# Print the updated matrix of features and the dependent variable vector\n",
    "print(\"Updated matrix of features: \\n\", X)\n",
    "print(\"Updated dependent variable vector: \\n\", y)"
   ]
  },
  {
   "cell_type": "markdown",
   "id": "290685b0-a94b-4452-9532-f871023fcd74",
   "metadata": {},
   "source": [
    "Splitting dataset into Training set and Test set "
   ]
  },
  {
   "cell_type": "code",
   "execution_count": 43,
   "id": "f248d654-da8d-4fd8-8de5-6db1a52dbf80",
   "metadata": {},
   "outputs": [],
   "source": [
    "from sklearn.model_selection import train_test_split\n",
    "X_train, X_test, y_train, y_test = train_test_split(X, y, test_size=0.2, random_state=1)"
   ]
  },
  {
   "cell_type": "code",
   "execution_count": 44,
   "id": "bc4e256f-c14b-4f28-88c5-146b69439cdd",
   "metadata": {},
   "outputs": [
    {
     "name": "stdout",
     "output_type": "stream",
     "text": [
      "[[0.0 0.0 1.0 38.77777777777778 52000.0]\n",
      " [0.0 1.0 0.0 40.0 63777.77777777778]\n",
      " [1.0 0.0 0.0 44.0 72000.0]\n",
      " [0.0 0.0 1.0 38.0 61000.0]\n",
      " [0.0 0.0 1.0 27.0 48000.0]\n",
      " [1.0 0.0 0.0 48.0 79000.0]\n",
      " [0.0 1.0 0.0 50.0 83000.0]\n",
      " [1.0 0.0 0.0 35.0 58000.0]]\n"
     ]
    }
   ],
   "source": [
    "print(X_train)"
   ]
  },
  {
   "cell_type": "code",
   "execution_count": 45,
   "id": "a75ed288-0462-4d21-acb3-66e7da2629fd",
   "metadata": {},
   "outputs": [
    {
     "name": "stdout",
     "output_type": "stream",
     "text": [
      "[[0.0 1.0 0.0 30.0 54000.0]\n",
      " [1.0 0.0 0.0 37.0 67000.0]]\n"
     ]
    }
   ],
   "source": [
    "print(X_test)"
   ]
  },
  {
   "cell_type": "code",
   "execution_count": 46,
   "id": "10606192-a29d-4aa5-a56e-922c01216272",
   "metadata": {},
   "outputs": [
    {
     "name": "stdout",
     "output_type": "stream",
     "text": [
      "[0 1 0 0 1 1 0 1]\n"
     ]
    }
   ],
   "source": [
    "print(y_train)"
   ]
  },
  {
   "cell_type": "code",
   "execution_count": 47,
   "id": "85eb83ea-cd78-4ff3-80a3-653c62a16fc3",
   "metadata": {},
   "outputs": [
    {
     "name": "stdout",
     "output_type": "stream",
     "text": [
      "[0 1]\n"
     ]
    }
   ],
   "source": [
    "print(y_test)"
   ]
  },
  {
   "cell_type": "markdown",
   "id": "54b983d9-d7ca-4d4b-b871-32d431144da4",
   "metadata": {},
   "source": [
    "Exercise 4"
   ]
  },
  {
   "cell_type": "markdown",
   "id": "d2056861-e599-4261-9085-f6e4cbc061a6",
   "metadata": {},
   "source": [
    "# Import necessary libraries\n",
    "import pandas as pd\n",
    "import numpy as np\n",
    "from sklearn.model_selection import train_test_split\n",
    "from sklearn.compose import ColumnTransformer\n",
    "from sklearn.preprocessing import OneHotEncoder, LabelEncoder\n",
    "from sklearn.preprocessing import StandardScaler\n",
    "\n",
    "# Load the Iris dataset\n",
    "dataset = pd.read_csv('iris.csv')\n",
    "\n",
    "# Separate features and target\n",
    "#X = np.array(dataset.iloc[:,:-1].values)\n",
    "#y = dataset.iloc[:,-1].values\n",
    "X = dataset.drop('target', axis=1) \n",
    "y = dataset['target']\n",
    "\n",
    "# Split the dataset into an 80-20 training-test set\n",
    "X_train, X_test, y_train, y_test = train_test_split(X, y, test_size=0.2, random_state=1)\n",
    "\n",
    "# Apply feature scaling on the training and test sets\n",
    "scaler = StandardScaler()\n",
    "X_train = scaler.fit_transform(X_train)\n",
    "X_test = scaler.transform(X_test)\n",
    "# Print the scaled training and test sets\n",
    "print(\"Scaled Training Set:\")\n",
    "print(X_train)\n",
    "print(\"\\nScaled Test Set:\")\n",
    "print(X_test)"
   ]
  },
  {
   "cell_type": "markdown",
   "id": "00d67950-a8e9-4ba0-9647-a9cd45f649b3",
   "metadata": {},
   "source": [
    "# Import necessary libraries\n",
    "import pandas as pd\n",
    "from sklearn.model_selection import train_test_split\n",
    "from sklearn.preprocessing import StandardScaler\n",
    "\n",
    "# Load the Iris dataset\n",
    "iris_df = pd.read_csv('iris.csv')\n",
    "\n",
    "# Separate features and target\n",
    "X = iris_df.drop('target', axis=1)\n",
    "y = iris_df['target']\n",
    "\n",
    "# Split the dataset into an 80-20 training-test set\n",
    "X_train, X_test, y_train, y_test = train_test_split(X, y, test_size=0.2, random_state=42)\n",
    "\n",
    "# Apply feature scaling on the training and test sets\n",
    "scaler = StandardScaler()\n",
    "X_train = scaler.fit_transform(X_train)\n",
    "X_test = scaler.transform(X_test)\n",
    "# Print the scaled training and test sets\n",
    "print(\"Scaled Training Set:\")\n",
    "print(X_train)\n",
    "print(\"\\nScaled Test Set:\")\n",
    "print(X_test)"
   ]
  },
  {
   "cell_type": "markdown",
   "id": "739d69d0-9a7e-425e-950a-5104dee02dfd",
   "metadata": {},
   "source": [
    "Feature Scaling"
   ]
  },
  {
   "cell_type": "code",
   "execution_count": 48,
   "id": "db188e14-0b7c-4796-a5a5-ad983541fc20",
   "metadata": {},
   "outputs": [],
   "source": [
    "from sklearn.preprocessing import StandardScaler\n",
    "scaler = StandardScaler()"
   ]
  },
  {
   "cell_type": "code",
   "execution_count": 49,
   "id": "72385ecb-c04b-46d0-abb8-a1406d18010a",
   "metadata": {},
   "outputs": [],
   "source": [
    "X_train[:,3:] = scaler.fit_transform(X_train[:,3:])\n",
    "X_test[:,3:]= scaler.transform(X_test[:,3:])"
   ]
  },
  {
   "cell_type": "code",
   "execution_count": 50,
   "id": "7bf35ff1-0331-4560-adc4-f75c09f39522",
   "metadata": {},
   "outputs": [
    {
     "name": "stdout",
     "output_type": "stream",
     "text": [
      "[[0.0 0.0 1.0 -0.19159184384578545 -1.0781259408412425]\n",
      " [0.0 1.0 0.0 -0.014117293757057777 -0.07013167641635372]\n",
      " [1.0 0.0 0.0 0.566708506533324 0.633562432710455]\n",
      " [0.0 0.0 1.0 -0.30453019390224867 -0.30786617274297867]\n",
      " [0.0 0.0 1.0 -1.9018011447007988 -1.420463615551582]\n",
      " [1.0 0.0 0.0 1.1475343068237058 1.232653363453549]\n",
      " [0.0 1.0 0.0 1.4379472069688968 1.5749910381638885]\n",
      " [1.0 0.0 0.0 -0.7401495441200351 -0.5646194287757332]]\n"
     ]
    }
   ],
   "source": [
    "print(X_train)"
   ]
  },
  {
   "cell_type": "code",
   "execution_count": 51,
   "id": "f1ac8966-dc34-46f5-9edd-7b3038ac9a6a",
   "metadata": {},
   "outputs": [
    {
     "name": "stdout",
     "output_type": "stream",
     "text": [
      "[[0.0 1.0 0.0 -1.4661817944830124 -0.9069571034860727]\n",
      " [1.0 0.0 0.0 -0.44973664397484414 0.2056403393225306]]\n"
     ]
    }
   ],
   "source": [
    "print(X_test)"
   ]
  },
  {
   "cell_type": "code",
   "execution_count": null,
   "id": "a5473f6f-ccfd-4099-91e6-102addfa66c5",
   "metadata": {},
   "outputs": [],
   "source": []
  }
 ],
 "metadata": {
  "kernelspec": {
   "display_name": "Python 3 (ipykernel)",
   "language": "python",
   "name": "python3"
  },
  "language_info": {
   "codemirror_mode": {
    "name": "ipython",
    "version": 3
   },
   "file_extension": ".py",
   "mimetype": "text/x-python",
   "name": "python",
   "nbconvert_exporter": "python",
   "pygments_lexer": "ipython3",
   "version": "3.10.0"
  }
 },
 "nbformat": 4,
 "nbformat_minor": 5
}
